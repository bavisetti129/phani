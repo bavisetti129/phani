{
  "nbformat": 4,
  "nbformat_minor": 0,
  "metadata": {
    "colab": {
      "name": "logistic regression_pickle.ipynb",
      "provenance": [],
      "authorship_tag": "ABX9TyOuo64C8NgaQgjfgONVxrZu",
      "include_colab_link": true
    },
    "kernelspec": {
      "name": "python3",
      "display_name": "Python 3"
    }
  },
  "cells": [
    {
      "cell_type": "markdown",
      "metadata": {
        "id": "view-in-github",
        "colab_type": "text"
      },
      "source": [
        "<a href=\"https://colab.research.google.com/github/bavisetti129/phani/blob/master/logistic_regression_pickle.ipynb\" target=\"_parent\"><img src=\"https://colab.research.google.com/assets/colab-badge.svg\" alt=\"Open In Colab\"/></a>"
      ]
    },
    {
      "cell_type": "code",
      "metadata": {
        "id": "JTgfSsvOFVDW",
        "colab_type": "code",
        "colab": {
          "base_uri": "https://localhost:8080/",
          "height": 102
        },
        "outputId": "a017ad77-2b08-4c3d-b637-7f1d0c0d79d0"
      },
      "source": [
        "#save model using pickle\n",
        "import pandas\n",
        "from sklearn import model_selection\n",
        "from sklearn.linear_model import LogisticRegression\n",
        "import pickle\n",
        "url=\"https://raw.githubusercontent.com/jbrownlee/Datasets/master/pima-indians-diabetes.data.csv\"\n",
        "names=['preg','plas','pres','skin','test','mass','pedi','age','class']\n",
        "dataframe=pandas.read_csv(url,names=names)\n",
        "array=dataframe.values\n",
        "X=array[:,0:8]\n",
        "y=array[:,8]\n",
        "test_size=0.33\n",
        "seed=7\n",
        "X_train,X_test,y_train,y_test=model_selection.train_test_split(X,y,test_size=test_size,random_state=seed)\n",
        "#fit the model on training set\n",
        "model=LogisticRegression(max_iter=1500)\n",
        "model.fit(X_train,y_train)\n"
      ],
      "execution_count": 4,
      "outputs": [
        {
          "output_type": "execute_result",
          "data": {
            "text/plain": [
              "LogisticRegression(C=1.0, class_weight=None, dual=False, fit_intercept=True,\n",
              "                   intercept_scaling=1, l1_ratio=None, max_iter=1500,\n",
              "                   multi_class='auto', n_jobs=None, penalty='l2',\n",
              "                   random_state=None, solver='lbfgs', tol=0.0001, verbose=0,\n",
              "                   warm_start=False)"
            ]
          },
          "metadata": {
            "tags": []
          },
          "execution_count": 4
        }
      ]
    },
    {
      "cell_type": "code",
      "metadata": {
        "id": "EweCPLJ0Jvoe",
        "colab_type": "code",
        "colab": {}
      },
      "source": [
        "#save the model to disply\n",
        "filename='finalized_model.sav'\n",
        "pickle.dump(model,open(filename,'wb'))# write file in binary format\n"
      ],
      "execution_count": 0,
      "outputs": []
    },
    {
      "cell_type": "code",
      "metadata": {
        "id": "TfVrsFDEKNJb",
        "colab_type": "code",
        "colab": {
          "base_uri": "https://localhost:8080/",
          "height": 34
        },
        "outputId": "ec13b447-27b8-4044-bb27-ff724c9c59b3"
      },
      "source": [
        "#load the bodel from disk\n",
        "loaded_model=pickle.load(open(filename,'rb'))\n",
        "result=loaded_model.score(X_test,y_test)\n",
        "result"
      ],
      "execution_count": 7,
      "outputs": [
        {
          "output_type": "execute_result",
          "data": {
            "text/plain": [
              "0.7874015748031497"
            ]
          },
          "metadata": {
            "tags": []
          },
          "execution_count": 7
        }
      ]
    }
  ]
}
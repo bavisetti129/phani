{
  "nbformat": 4,
  "nbformat_minor": 0,
  "metadata": {
    "colab": {
      "name": "NLTK.ipynb",
      "provenance": [],
      "collapsed_sections": [],
      "include_colab_link": true
    },
    "kernelspec": {
      "name": "python3",
      "display_name": "Python 3"
    }
  },
  "cells": [
    {
      "cell_type": "markdown",
      "metadata": {
        "id": "view-in-github",
        "colab_type": "text"
      },
      "source": [
        "<a href=\"https://colab.research.google.com/github/bavisetti129/phani/blob/master/NLTK.ipynb\" target=\"_parent\"><img src=\"https://colab.research.google.com/assets/colab-badge.svg\" alt=\"Open In Colab\"/></a>"
      ]
    },
    {
      "cell_type": "code",
      "metadata": {
        "id": "jc49urxjqeMA",
        "colab_type": "code",
        "outputId": "64f5fa58-a203-4dc7-9f04-3ce0b52f4023",
        "colab": {
          "base_uri": "https://localhost:8080/",
          "height": 72
        }
      },
      "source": [
        "\n",
        "\n",
        "import nltk\n",
        "nltk.download('punkt')"
      ],
      "execution_count": 0,
      "outputs": [
        {
          "output_type": "stream",
          "text": [
            "[nltk_data] Downloading package punkt to /root/nltk_data...\n",
            "[nltk_data]   Unzipping tokenizers/punkt.zip.\n"
          ],
          "name": "stdout"
        },
        {
          "output_type": "execute_result",
          "data": {
            "text/plain": [
              "True"
            ]
          },
          "metadata": {
            "tags": []
          },
          "execution_count": 4
        }
      ]
    },
    {
      "cell_type": "code",
      "metadata": {
        "id": "gFCWIYVsqAo6",
        "colab_type": "code",
        "outputId": "011b8c88-627b-46d2-b072-68f331137a57",
        "colab": {
          "base_uri": "https://localhost:8080/",
          "height": 35
        }
      },
      "source": [
        "from nltk.tokenize import word_tokenize\n",
        "text =\"hi hello how you doing\"\n",
        "print(word_tokenize(text))"
      ],
      "execution_count": 0,
      "outputs": [
        {
          "output_type": "stream",
          "text": [
            "['hi', 'hello', 'how', 'you', 'doing']\n"
          ],
          "name": "stdout"
        }
      ]
    },
    {
      "cell_type": "code",
      "metadata": {
        "id": "rKju5JFKqoTr",
        "colab_type": "code",
        "outputId": "64cbfe3e-f0b8-4df6-cbe6-132f5f8cebb7",
        "colab": {
          "base_uri": "https://localhost:8080/",
          "height": 35
        }
      },
      "source": [
        "from nltk.tokenize import sent_tokenize\n",
        "text = \"Oh My God!,its miracle\"\n",
        "print(sent_tokenize(text))"
      ],
      "execution_count": 0,
      "outputs": [
        {
          "output_type": "stream",
          "text": [
            "['Oh My God!,its miracle']\n"
          ],
          "name": "stdout"
        }
      ]
    },
    {
      "cell_type": "code",
      "metadata": {
        "id": "0G5P5pSahf31",
        "colab_type": "code",
        "outputId": "f99dfea6-1238-4294-bb74-ef5dd6f59c8e",
        "colab": {
          "base_uri": "https://localhost:8080/",
          "height": 201
        }
      },
      "source": [
        "import nltk\n",
        "nltk.download('punkt')\n",
        "nltk.download('stopwords')\n",
        "nltk.download('wordnet')\n",
        "nltk.download('averaged_perceptron_tagger')"
      ],
      "execution_count": 0,
      "outputs": [
        {
          "output_type": "stream",
          "text": [
            "[nltk_data] Downloading package punkt to /root/nltk_data...\n",
            "[nltk_data]   Package punkt is already up-to-date!\n",
            "[nltk_data] Downloading package stopwords to /root/nltk_data...\n",
            "[nltk_data]   Unzipping corpora/stopwords.zip.\n",
            "[nltk_data] Downloading package wordnet to /root/nltk_data...\n",
            "[nltk_data]   Unzipping corpora/wordnet.zip.\n",
            "[nltk_data] Downloading package averaged_perceptron_tagger to\n",
            "[nltk_data]     /root/nltk_data...\n",
            "[nltk_data]   Unzipping taggers/averaged_perceptron_tagger.zip.\n"
          ],
          "name": "stdout"
        },
        {
          "output_type": "execute_result",
          "data": {
            "text/plain": [
              "True"
            ]
          },
          "metadata": {
            "tags": []
          },
          "execution_count": 7
        }
      ]
    },
    {
      "cell_type": "code",
      "metadata": {
        "id": "R9YdQqgUem7P",
        "colab_type": "code",
        "colab": {}
      },
      "source": [
        "import seaborn as sns"
      ],
      "execution_count": 0,
      "outputs": []
    },
    {
      "cell_type": "markdown",
      "metadata": {
        "id": "p9OIt8EIgmbD",
        "colab_type": "text"
      },
      "source": [
        "Tokenization: The process of breaking down a text paragraph into smaller words or sentence is called Tokenization. A Token is a single entity that is building blocks for sentence or paragram"
      ]
    },
    {
      "cell_type": "code",
      "metadata": {
        "id": "Uja_8uhTfSEj",
        "colab_type": "code",
        "colab": {}
      },
      "source": [
        "from nltk.tokenize import sent_tokenize"
      ],
      "execution_count": 0,
      "outputs": []
    },
    {
      "cell_type": "code",
      "metadata": {
        "id": "Lb5o-rLQg-t9",
        "colab_type": "code",
        "outputId": "3750b50d-5a16-41d5-8d9f-3d36ec9f645e",
        "colab": {
          "base_uri": "https://localhost:8080/",
          "height": 54
        }
      },
      "source": [
        "story ='India is a country with rich natural resources and skilled population. India is a sub-continent with huge population and culture of india is greatly knowly to the world'\n",
        "tokenized_story = sent_tokenize(story)\n",
        "#Given Story is tokenized into sentence\n",
        "tokenized_story"
      ],
      "execution_count": 0,
      "outputs": [
        {
          "output_type": "execute_result",
          "data": {
            "text/plain": [
              "['India is a country with rich natural resources and skilled population.',\n",
              " 'India is a sub-continent with huge population and culture of india is greatly knowly to the world']"
            ]
          },
          "metadata": {
            "tags": []
          },
          "execution_count": 10
        }
      ]
    },
    {
      "cell_type": "markdown",
      "metadata": {
        "id": "GZ2HZ5gXhsg-",
        "colab_type": "text"
      },
      "source": [
        "Word Tokenization : Breaks text paragraph into words"
      ]
    },
    {
      "cell_type": "code",
      "metadata": {
        "id": "kHMcchJWhqSg",
        "colab_type": "code",
        "colab": {}
      },
      "source": [
        "#Word Tokenization\n",
        "from nltk.tokenize import word_tokenize\n",
        "tokenized_word = word_tokenize(story)\n",
        "tokenized_word"
      ],
      "execution_count": 0,
      "outputs": []
    },
    {
      "cell_type": "markdown",
      "metadata": {
        "id": "4sM5H4rxiDe9",
        "colab_type": "text"
      },
      "source": [
        "Frequency Distribution"
      ]
    },
    {
      "cell_type": "code",
      "metadata": {
        "id": "7_CrrJLEiHak",
        "colab_type": "code",
        "outputId": "de4864a6-133e-4d03-f031-214cedf71b42",
        "colab": {
          "base_uri": "https://localhost:8080/",
          "height": 35
        }
      },
      "source": [
        "from nltk.probability import FreqDist\n",
        "freq = FreqDist(tokenized_word)\n",
        "print(freq)"
      ],
      "execution_count": 0,
      "outputs": [
        {
          "output_type": "stream",
          "text": [
            "<FreqDist with 22 samples and 29 outcomes>\n"
          ],
          "name": "stdout"
        }
      ]
    },
    {
      "cell_type": "code",
      "metadata": {
        "id": "9grtwqdyiPqm",
        "colab_type": "code",
        "outputId": "41f0fc4b-b692-4725-8acf-4e4b462f624b",
        "colab": {
          "base_uri": "https://localhost:8080/",
          "height": 35
        }
      },
      "source": [
        "freq.most_common(3)"
      ],
      "execution_count": 0,
      "outputs": [
        {
          "output_type": "execute_result",
          "data": {
            "text/plain": [
              "[('is', 3), ('India', 2), ('a', 2)]"
            ]
          },
          "metadata": {
            "tags": []
          },
          "execution_count": 13
        }
      ]
    },
    {
      "cell_type": "code",
      "metadata": {
        "id": "96qMLTndic0o",
        "colab_type": "code",
        "outputId": "a440c5d8-427f-47a2-d05c-410d862ca325",
        "colab": {
          "base_uri": "https://localhost:8080/",
          "height": 338
        }
      },
      "source": [
        "import matplotlib.pyplot as plt\n",
        "freq.plot(30,cumulative=False)\n",
        "plt.show()"
      ],
      "execution_count": 0,
      "outputs": [
        {
          "output_type": "display_data",
          "data": {
            "image/png": "[encoded data removed]",
            "text/plain": [
              "<Figure size 432x288 with 1 Axes>"
            ]
          },
          "metadata": {
            "tags": []
          }
        }
      ]
    },
    {
      "cell_type": "markdown",
      "metadata": {
        "id": "_akjW5VAi7Td",
        "colab_type": "text"
      },
      "source": [
        "Stopwords: Considered as noise in the text.A text may contain stopwords like A,As,In,an,the etc.\n",
        "In NLTK for removing stopwords , create a list of STOPWORDS and filter with text                   "
      ]
    },
    {
      "cell_type": "code",
      "metadata": {
        "id": "NFWgHly8i4UX",
        "colab_type": "code",
        "outputId": "6749123f-d109-4991-85f5-c26c68dd2161",
        "colab": {
          "base_uri": "https://localhost:8080/",
          "height": 55
        }
      },
      "source": [
        "from nltk.corpus import stopwords\n",
        "stop_words = set(stopwords.words(\"english\"))\n",
        "print(stop_words)"
      ],
      "execution_count": 0,
      "outputs": [
        {
          "output_type": "stream",
          "text": [
            "{'shan', 'with', 'hasn', 'it', 'not', 'up', 're', 'me', 'between', 'now', 'before', 'out', 'weren', 'she', 'aren', 'ours', \"needn't\", 'was', \"aren't\", 'an', 'does', \"wouldn't\", 'shouldn', 'just', 'needn', 'such', \"didn't\", 'where', 'when', 'a', 'he', 'herself', 'further', 'nor', 'you', 'her', 'wouldn', 'don', 'who', 'yours', 'of', 'own', 'can', 'as', 'd', \"shouldn't\", 'these', \"you'd\", 'to', 'why', 'any', \"it's\", 'all', 'did', \"wasn't\", 'they', 's', 'then', 'isn', 'through', 'be', 'in', \"that'll\", 'the', 'and', 'mustn', 'once', \"you're\", 'm', 'my', 'them', 'll', 'same', 'during', 'our', 'their', \"won't\", 'other', 't', 'about', 'against', 'most', 'haven', 'myself', 'being', 'doesn', \"haven't\", 'had', 'this', 'for', 'very', 'into', 'didn', 'too', 'wasn', 'some', 'those', 'has', \"you'll\", 'couldn', 'or', 'are', 'himself', \"shan't\", 'few', 'off', 'over', 'itself', 'been', 'hadn', 'his', 'down', 'at', 'ourselves', 'on', \"should've\", \"mustn't\", 'hers', 'i', 'again', \"she's\", 'themselves', 'which', \"mightn't\", 'more', 'above', 'mightn', \"isn't\", \"you've\", 'that', 'while', 'its', 'whom', 'having', 'doing', 'how', \"don't\", 'ain', 'but', 'have', 'after', 'until', 've', 'there', 'each', 'if', 'by', 'him', \"hasn't\", 'yourself', 'ma', 'only', 'o', 'won', 'am', 'do', 'what', 'here', 'y', \"hadn't\", 'were', 'both', 'no', 'because', 'under', 'so', 'your', 'than', \"couldn't\", 'below', 'yourselves', 'should', \"doesn't\", 'is', 'we', 'theirs', \"weren't\", 'from', 'will'}\n"
          ],
          "name": "stdout"
        }
      ]
    },
    {
      "cell_type": "markdown",
      "metadata": {
        "id": "vPHAF6wOjpDD",
        "colab_type": "text"
      },
      "source": [
        "Removing Stopwords"
      ]
    },
    {
      "cell_type": "code",
      "metadata": {
        "id": "qY3QWhcKjql7",
        "colab_type": "code",
        "colab": {}
      },
      "source": [
        "filter_words = []\n",
        "for w in tokenized_word:\n",
        "  if w not in stop_words:\n",
        "    filter_words.append(w)\n"
      ],
      "execution_count": 0,
      "outputs": []
    },
    {
      "cell_type": "code",
      "metadata": {
        "id": "DrQqlxLhkcCX",
        "colab_type": "code",
        "outputId": "e168cf8f-fa51-4667-d1cd-0c90df098959",
        "colab": {
          "base_uri": "https://localhost:8080/",
          "height": 74
        }
      },
      "source": [
        "print(\"tokenized Sentence:\",tokenized_story)\n",
        "print(\"Filtered Sentence:\",filter_words)"
      ],
      "execution_count": 0,
      "outputs": [
        {
          "output_type": "stream",
          "text": [
            "tokenized Sentence: ['India is a country with rich natural resources and skilled population.', 'India is a sub-continent with huge population and culture of india is greatly knowly to the world']\n",
            "Filtered Sentence: ['India', 'country', 'rich', 'natural', 'resources', 'skilled', 'population', '.', 'India', 'sub-continent', 'huge', 'population', 'culture', 'india', 'greatly', 'knowly', 'world']\n"
          ],
          "name": "stdout"
        }
      ]
    },
    {
      "cell_type": "markdown",
      "metadata": {
        "id": "zEt7vw57m6tE",
        "colab_type": "text"
      },
      "source": [
        "Lexicon Normallization:Another type of Noise in text"
      ]
    },
    {
      "cell_type": "markdown",
      "metadata": {
        "id": "s9mF2pPhnvCX",
        "colab_type": "text"
      },
      "source": [
        "Stemming : is aprocess of Linguistic Normazliation, reduces words to word root          "
      ]
    },
    {
      "cell_type": "code",
      "metadata": {
        "id": "67plPyGWm6Ge",
        "colab_type": "code",
        "colab": {}
      },
      "source": [
        "from nltk.stem import PorterStemmer"
      ],
      "execution_count": 0,
      "outputs": []
    },
    {
      "cell_type": "code",
      "metadata": {
        "id": "o3RkEvqfoCz8",
        "colab_type": "code",
        "outputId": "11b8bcf3-e679-4057-8cef-c0310615d62f",
        "colab": {
          "base_uri": "https://localhost:8080/",
          "height": 74
        }
      },
      "source": [
        "ps=PorterStemmer()\n",
        "stemword = []\n",
        "for w in filter_words:\n",
        "  stemword.append(ps.stem(w))\n",
        "print(\"Filtered Sentence:\",filter_words)\n",
        "print(\"Stemmed Sentence:\",stemword)"
      ],
      "execution_count": 0,
      "outputs": [
        {
          "output_type": "stream",
          "text": [
            "Filtered Sentence: ['India', 'country', 'rich', 'natural', 'resources', 'skilled', 'population', '.', 'India', 'sub-continent', 'huge', 'population', 'culture', 'india', 'greatly', 'knowly', 'world']\n",
            "Stemmed Sentence: ['india', 'countri', 'rich', 'natur', 'resourc', 'skill', 'popul', '.', 'india', 'sub-contin', 'huge', 'popul', 'cultur', 'india', 'greatli', 'knowli', 'world']\n"
          ],
          "name": "stdout"
        }
      ]
    },
    {
      "cell_type": "markdown",
      "metadata": {
        "id": "G3p7px5iooif",
        "colab_type": "text"
      },
      "source": [
        "Lemmatization : Reduces words to their based word which ajust the Lemmas"
      ]
    },
    {
      "cell_type": "code",
      "metadata": {
        "id": "6wFnhHjpon98",
        "colab_type": "code",
        "colab": {}
      },
      "source": [
        "from nltk.stem.wordnet import WordNetLemmatizer\n",
        "lemma = WordNetLemmatizer()"
      ],
      "execution_count": 0,
      "outputs": []
    },
    {
      "cell_type": "code",
      "metadata": {
        "id": "iDAVcdWzpCvt",
        "colab_type": "code",
        "outputId": "7aaa9571-059b-405b-b797-104b52362512",
        "colab": {
          "base_uri": "https://localhost:8080/",
          "height": 54
        }
      },
      "source": [
        "from nltk.stem.porter import PorterStemmer\n",
        "stem = PorterStemmer()\n",
        "word = \"natural\"\n",
        "print(\"Lemmatized Word:\",lemma.lemmatize(word,\"v\"))\n",
        "print(\"Stemmed word:\",stem.stem(word))"
      ],
      "execution_count": 0,
      "outputs": [
        {
          "output_type": "stream",
          "text": [
            "Lemmatized Word: natural\n",
            "Stemmed word: natur\n"
          ],
          "name": "stdout"
        }
      ]
    },
    {
      "cell_type": "markdown",
      "metadata": {
        "id": "wSbrEnqqt1yD",
        "colab_type": "text"
      },
      "source": [
        "POS Tagging : Part of Speech takking is to identify the grammatical group of a given word like Noun, Pronoun,Verb,Adverbs etc based on the context"
      ]
    },
    {
      "cell_type": "code",
      "metadata": {
        "id": "w8wgUXNpt4AU",
        "colab_type": "code",
        "colab": {}
      },
      "source": [
        "rewards = \"India is best cricket team in the world. Virak Kohli is indian captain\""
      ],
      "execution_count": 0,
      "outputs": []
    },
    {
      "cell_type": "code",
      "metadata": {
        "id": "Dk8-ia_WuSkW",
        "colab_type": "code",
        "outputId": "e620b336-433b-4d13-d6c6-a4b161081ceb",
        "colab": {
          "base_uri": "https://localhost:8080/",
          "height": 35
        }
      },
      "source": [
        "tokens = nltk.word_tokenize(rewards)\n",
        "print(tokens)"
      ],
      "execution_count": 0,
      "outputs": [
        {
          "output_type": "stream",
          "text": [
            "['India', 'is', 'best', 'cricket', 'team', 'in', 'the', 'world', '.', 'Virak', 'Kohli', 'is', 'indian', 'captain']\n"
          ],
          "name": "stdout"
        }
      ]
    },
    {
      "cell_type": "markdown",
      "metadata": {
        "id": "vjXjKIg362Yk",
        "colab_type": "text"
      },
      "source": [
        "\n",
        "\n",
        "*   NNP Proper Noun Singular\n",
        "*   NNPS Proper Noun Plural\n",
        "1.  NN Noun Singular\n",
        "2.  JJS Adjective, Superlative\n",
        "\n",
        "1.   POS Possiessive Ending\n",
        "2.   NNS Noun Plural\n",
        "1.   DT Determiner\n",
        "2.   RB Adverb very,silently\n",
        "*   VB verb\n",
        "*   VBZ Verb 3rd person sing\n",
        "    \n",
        "    WDT wh-determine which\n",
        "    WRB wh-abverb where,when\n",
        "\n",
        "1.   VBP verb,singular present\n",
        "2.   VBN verb past Participle\n",
        "    Wp pronoun (who,what)\n",
        "\n",
        "\n",
        "\n",
        "\n",
        "\n",
        "\n",
        "\n"
      ]
    },
    {
      "cell_type": "code",
      "metadata": {
        "id": "NrnjTO8EvPar",
        "colab_type": "code",
        "outputId": "d5f71dbf-6676-4fb9-83e9-3d0ad6a0e150",
        "colab": {
          "base_uri": "https://localhost:8080/",
          "height": 276
        }
      },
      "source": [
        "nltk.pos_tag(tokens)"
      ],
      "execution_count": 0,
      "outputs": [
        {
          "output_type": "execute_result",
          "data": {
            "text/plain": [
              "[('India', 'NNP'),\n",
              " ('is', 'VBZ'),\n",
              " ('best', 'JJS'),\n",
              " ('cricket', 'NN'),\n",
              " ('team', 'NN'),\n",
              " ('in', 'IN'),\n",
              " ('the', 'DT'),\n",
              " ('world', 'NN'),\n",
              " ('.', '.'),\n",
              " ('Virak', 'NNP'),\n",
              " ('Kohli', 'NNP'),\n",
              " ('is', 'VBZ'),\n",
              " ('indian', 'JJ'),\n",
              " ('captain', 'NN')]"
            ]
          },
          "metadata": {
            "tags": []
          },
          "execution_count": 23
        }
      ]
    },
    {
      "cell_type": "markdown",
      "metadata": {
        "id": "8xYdE_OgvhrP",
        "colab_type": "text"
      },
      "source": [
        "Two Approaches in Sentiment Analysis:\n",
        "1. Lexicon based Approach : Count nnumber of positive and Negative words in given text and larger count will be th sentiment of text\n",
        "2. Machine Learning based Approach: Develop a Classification Model              "
      ]
    },
    {
      "cell_type": "markdown",
      "metadata": {
        "id": "vR1rX95ZwG0-",
        "colab_type": "text"
      },
      "source": [
        "Text Classification\n",
        "\n",
        "Text classification is one of the important tasks of text mining. It is a supervised approach. Identifying category or class of given text such as a blog, book, web page, news articles, and tweets. It has various application in today's computer world such as spam detection, task categorization in CRM services, categorizing products on E-retailer websites, classifying the content of websites for a search engine, sentiments of customer feedback, etc. In the next section, you will learn how you can do text classification in python bold text"
      ]
    },
    {
      "cell_type": "markdown",
      "metadata": {
        "id": "YNY5tKEnv__z",
        "colab_type": "text"
      },
      "source": [
        "![image.png](data:image/png;base64,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)"
      ]
    },
    {
      "cell_type": "code",
      "metadata": {
        "id": "n8CVnAsOwRJa",
        "colab_type": "code",
        "outputId": "2876f9cc-7ac2-437e-fe0e-a18549bbc22f",
        "colab": {
          "base_uri": "https://localhost:8080/",
          "height": 143
        }
      },
      "source": [
        "import pandas as pd\n",
        "import matplotlib.pyplot as plt\n",
        "\n",
        "sdata =pd.read_csv(\"sentiment.tsv\",delimiter='\\t')\n",
        "sdata.head(3)"
      ],
      "execution_count": 0,
      "outputs": [
        {
          "output_type": "execute_result",
          "data": {
            "text/html": [
              "<div>\n",
              "<style scoped>\n",
              "    .dataframe tbody tr th:only-of-type {\n",
              "        vertical-align: middle;\n",
              "    }\n",
              "\n",
              "    .dataframe tbody tr th {\n",
              "        vertical-align: top;\n",
              "    }\n",
              "\n",
              "    .dataframe thead th {\n",
              "        text-align: right;\n",
              "    }\n",
              "</style>\n",
              "<table border=\"1\" class=\"dataframe\">\n",
              "  <thead>\n",
              "    <tr style=\"text-align: right;\">\n",
              "      <th></th>\n",
              "      <th>PhraseId</th>\n",
              "      <th>SentenceId</th>\n",
              "      <th>Phrase</th>\n",
              "      <th>Sentiment</th>\n",
              "    </tr>\n",
              "  </thead>\n",
              "  <tbody>\n",
              "    <tr>\n",
              "      <th>0</th>\n",
              "      <td>1</td>\n",
              "      <td>1</td>\n",
              "      <td>A series of escapades demonstrating the adage ...</td>\n",
              "      <td>1.0</td>\n",
              "    </tr>\n",
              "    <tr>\n",
              "      <th>1</th>\n",
              "      <td>2</td>\n",
              "      <td>1</td>\n",
              "      <td>A series of escapades demonstrating the adage ...</td>\n",
              "      <td>2.0</td>\n",
              "    </tr>\n",
              "    <tr>\n",
              "      <th>2</th>\n",
              "      <td>3</td>\n",
              "      <td>1</td>\n",
              "      <td>A series</td>\n",
              "      <td>2.0</td>\n",
              "    </tr>\n",
              "  </tbody>\n",
              "</table>\n",
              "</div>"
            ],
            "text/plain": [
              "   PhraseId  ...  Sentiment\n",
              "0         1  ...        1.0\n",
              "1         2  ...        2.0\n",
              "2         3  ...        2.0\n",
              "\n",
              "[3 rows x 4 columns]"
            ]
          },
          "metadata": {
            "tags": []
          },
          "execution_count": 2
        }
      ]
    },
    {
      "cell_type": "code",
      "metadata": {
        "id": "YY1tHY8eAYSK",
        "colab_type": "code",
        "colab": {}
      },
      "source": [
        "sdata.info()"
      ],
      "execution_count": 0,
      "outputs": []
    },
    {
      "cell_type": "code",
      "metadata": {
        "id": "A6TvyF3RAa_f",
        "colab_type": "code",
        "colab": {}
      },
      "source": [
        "sdata.columns"
      ],
      "execution_count": 0,
      "outputs": []
    },
    {
      "cell_type": "code",
      "metadata": {
        "id": "3XRTl1ZRAq9B",
        "colab_type": "code",
        "colab": {}
      },
      "source": [
        "sdata.Sentiment.value_counts()"
      ],
      "execution_count": 0,
      "outputs": []
    },
    {
      "cell_type": "code",
      "metadata": {
        "id": "ARv-9RQ5AyeV",
        "colab_type": "code",
        "colab": {}
      },
      "source": [
        "Sentiment_count = sdata.groupby('Sentiment').count()\n",
        "Sentiment_count"
      ],
      "execution_count": 0,
      "outputs": []
    },
    {
      "cell_type": "code",
      "metadata": {
        "id": "5d9NS9wWA9kJ",
        "colab_type": "code",
        "colab": {}
      },
      "source": [
        "plt.bar(Sentiment_count.index.values,Sentiment_count['Phrase'])\n",
        "plt.xlabel('Review sentiments')\n",
        "plt.ylabel('number of reviews')\n",
        "plt.show()"
      ],
      "execution_count": 0,
      "outputs": []
    },
    {
      "cell_type": "markdown",
      "metadata": {
        "id": "IY0ETENvBUTP",
        "colab_type": "text"
      },
      "source": [
        "Feature Generation Using Bag of WOrds"
      ]
    },
    {
      "cell_type": "code",
      "metadata": {
        "id": "eokJ_kZjBYB1",
        "colab_type": "code",
        "colab": {}
      },
      "source": [
        "from sklearn.feature_extraction.text import CountVectorizer\n",
        "from nltk.tokenize import RegexpTokenizer\n"
      ],
      "execution_count": 0,
      "outputs": []
    },
    {
      "cell_type": "code",
      "metadata": {
        "id": "yDmodyj5BjrU",
        "colab_type": "code",
        "colab": {}
      },
      "source": [
        "token=RegexpTokenizer(r'[a-zA-Z0-9]+')\n",
        "cv=CountVectorizer(lowercase=True,stop_words='english',ngram_range=(1,1),tokenizer=token.tokenize)\n",
        "text_counts=cv.fit_transform(sdata['Phrase'])"
      ],
      "execution_count": 0,
      "outputs": []
    },
    {
      "cell_type": "markdown",
      "metadata": {
        "id": "FxGSgBqQCAHz",
        "colab_type": "text"
      },
      "source": [
        "SPlit Train and Test data"
      ]
    },
    {
      "cell_type": "code",
      "metadata": {
        "id": "ZwTfzBuXCCVx",
        "colab_type": "code",
        "colab": {}
      },
      "source": [
        "from sklearn.model_selection import train_test_split\n",
        "x_train,x_test,y_train,y_test = train_test_split(text_counts,sdata['Sentiment'],test_size=0.3,random_state=1)\n"
      ],
      "execution_count": 0,
      "outputs": []
    },
    {
      "cell_type": "markdown",
      "metadata": {
        "id": "MSBjfQ2-CXxz",
        "colab_type": "text"
      },
      "source": [
        "Model Building and Evaluation"
      ]
    },
    {
      "cell_type": "code",
      "metadata": {
        "id": "ng0DuV5oCbJt",
        "colab_type": "code",
        "colab": {}
      },
      "source": [
        "from sklearn.naive_bayes import MultinomialNB\n",
        "from sklearn import metrics\n",
        "clf = MultinomialNB().fit(x_train,y_train)\n",
        "pred = clf.predict(x_test)\n",
        "print(\"MultinomialNB Accuracy\",metrics.accuracy_score(y_test,pred))\n"
      ],
      "execution_count": 0,
      "outputs": []
    },
    {
      "cell_type": "markdown",
      "metadata": {
        "id": "td7qv6UQC6Uk",
        "colab_type": "text"
      },
      "source": [
        "Above Accuracy not a good Accuracy, we need to improve the accuracy"
      ]
    },
    {
      "cell_type": "markdown",
      "metadata": {
        "id": "CVsbog9ZC-jh",
        "colab_type": "text"
      },
      "source": [
        "Feature Generation using TF-IDF"
      ]
    },
    {
      "cell_type": "code",
      "metadata": {
        "id": "qILxZqvIDEwG",
        "colab_type": "code",
        "colab": {}
      },
      "source": [
        "from sklearn.feature_extraction.text import TfidfVectorizer\n",
        "tf = TfidfVectorizer()\n",
        "text_tf = tf.fit_transform(sdata['Phrase'])"
      ],
      "execution_count": 0,
      "outputs": []
    },
    {
      "cell_type": "markdown",
      "metadata": {
        "id": "whYFTiiaDEW4",
        "colab_type": "text"
      },
      "source": [
        "Split train and test set using TF-IDF"
      ]
    },
    {
      "cell_type": "code",
      "metadata": {
        "id": "XXXUnyDkDbkR",
        "colab_type": "code",
        "colab": {}
      },
      "source": [
        "from sklearn.model_selection import train_test_split\n",
        "x_train,x_test,y_train,y_test =train_test_split(text_tf,sdata['Sentiment'],test_size=0.3,random_state=123)"
      ],
      "execution_count": 0,
      "outputs": []
    },
    {
      "cell_type": "markdown",
      "metadata": {
        "id": "0zqtlPlFDuvm",
        "colab_type": "text"
      },
      "source": [
        "Model Building and Evaluation usin TF-IDF"
      ]
    },
    {
      "cell_type": "code",
      "metadata": {
        "id": "r0kiuGmBDuQ3",
        "colab_type": "code",
        "colab": {}
      },
      "source": [
        "from sklearn.naive_bayes import MultinomialNB\n",
        "from sklearn import metrics\n",
        "clf=MultinomialNB().fit(x_train,y_train)\n",
        "pred=clf.predict(x_test)\n",
        "print(\"MultinomialNB Accuray=\",metrics.accuracy_score(y_test,pred))"
      ],
      "execution_count": 0,
      "outputs": []
    },
    {
      "cell_type": "markdown",
      "metadata": {
        "id": "hsOnvblsEKy3",
        "colab_type": "text"
      },
      "source": [
        "Classifcation rate of 58% using TF-IDF features not considered as good accuracy. try with other Preprocessing or Feature engineering tecnique"
      ]
    }
  ]
}
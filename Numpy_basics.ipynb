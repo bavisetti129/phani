{
  "nbformat": 4,
  "nbformat_minor": 0,
  "metadata": {
    "colab": {
      "name": "Numpy_basics.ipynb",
      "provenance": []
    },
    "kernelspec": {
      "name": "python3",
      "display_name": "Python 3"
    }
  },
  "cells": [
    {
      "cell_type": "code",
      "metadata": {
        "id": "SQAjDInxY9bz",
        "colab_type": "code",
        "colab": {}
      },
      "source": [
        "import pandas as pd\n",
        "import numpy as np \n",
        "from sklearn.impute import SimpleImputer\n",
        "data = pd.read_csv('country.txt',delimiter=',')\n",
        "data"
      ],
      "execution_count": 0,
      "outputs": []
    },
    {
      "cell_type": "code",
      "metadata": {
        "id": "c7MFsiLCaLl-",
        "colab_type": "code",
        "colab": {}
      },
      "source": [
        "data.isnull().sum()"
      ],
      "execution_count": 0,
      "outputs": []
    },
    {
      "cell_type": "code",
      "metadata": {
        "id": "M04yaeACa1Xn",
        "colab_type": "code",
        "colab": {}
      },
      "source": [
        "imputer=SimpleImputer(missing_values=np.nan,strategy='mean')\n",
        "imputer=imputer.fit(data[['Age','Salary']])\n",
        "data[['Age','Salary']] = imputer.transform(data[['Age','Salary']])\n",
        "data.isnull().sum()"
      ],
      "execution_count": 0,
      "outputs": []
    },
    {
      "cell_type": "code",
      "metadata": {
        "id": "3lEsA_uTbdTm",
        "colab_type": "code",
        "colab": {
          "base_uri": "https://localhost:8080/",
          "height": 363
        },
        "outputId": "078d76fb-2f20-4394-967a-fe4bc8962317"
      },
      "source": [
        "data"
      ],
      "execution_count": 56,
      "outputs": [
        {
          "output_type": "execute_result",
          "data": {
            "text/html": [
              "<div>\n",
              "<style scoped>\n",
              "    .dataframe tbody tr th:only-of-type {\n",
              "        vertical-align: middle;\n",
              "    }\n",
              "\n",
              "    .dataframe tbody tr th {\n",
              "        vertical-align: top;\n",
              "    }\n",
              "\n",
              "    .dataframe thead th {\n",
              "        text-align: right;\n",
              "    }\n",
              "</style>\n",
              "<table border=\"1\" class=\"dataframe\">\n",
              "  <thead>\n",
              "    <tr style=\"text-align: right;\">\n",
              "      <th></th>\n",
              "      <th>Country</th>\n",
              "      <th>Age</th>\n",
              "      <th>Salary</th>\n",
              "      <th>Purchased</th>\n",
              "    </tr>\n",
              "  </thead>\n",
              "  <tbody>\n",
              "    <tr>\n",
              "      <th>0</th>\n",
              "      <td>France</td>\n",
              "      <td>44.000000</td>\n",
              "      <td>72000.000000</td>\n",
              "      <td>No</td>\n",
              "    </tr>\n",
              "    <tr>\n",
              "      <th>1</th>\n",
              "      <td>Spain</td>\n",
              "      <td>27.000000</td>\n",
              "      <td>48000.000000</td>\n",
              "      <td>Yes</td>\n",
              "    </tr>\n",
              "    <tr>\n",
              "      <th>2</th>\n",
              "      <td>Germany</td>\n",
              "      <td>30.000000</td>\n",
              "      <td>54000.000000</td>\n",
              "      <td>No</td>\n",
              "    </tr>\n",
              "    <tr>\n",
              "      <th>3</th>\n",
              "      <td>Spain</td>\n",
              "      <td>38.000000</td>\n",
              "      <td>61000.000000</td>\n",
              "      <td>No</td>\n",
              "    </tr>\n",
              "    <tr>\n",
              "      <th>4</th>\n",
              "      <td>Germany</td>\n",
              "      <td>40.000000</td>\n",
              "      <td>63777.777778</td>\n",
              "      <td>Yes</td>\n",
              "    </tr>\n",
              "    <tr>\n",
              "      <th>5</th>\n",
              "      <td>France</td>\n",
              "      <td>35.000000</td>\n",
              "      <td>58000.000000</td>\n",
              "      <td>Yes</td>\n",
              "    </tr>\n",
              "    <tr>\n",
              "      <th>6</th>\n",
              "      <td>Spain</td>\n",
              "      <td>38.777778</td>\n",
              "      <td>52000.000000</td>\n",
              "      <td>No</td>\n",
              "    </tr>\n",
              "    <tr>\n",
              "      <th>7</th>\n",
              "      <td>France</td>\n",
              "      <td>48.000000</td>\n",
              "      <td>79000.000000</td>\n",
              "      <td>Yes</td>\n",
              "    </tr>\n",
              "    <tr>\n",
              "      <th>8</th>\n",
              "      <td>Germany</td>\n",
              "      <td>50.000000</td>\n",
              "      <td>83000.000000</td>\n",
              "      <td>No</td>\n",
              "    </tr>\n",
              "    <tr>\n",
              "      <th>9</th>\n",
              "      <td>France</td>\n",
              "      <td>37.000000</td>\n",
              "      <td>67000.000000</td>\n",
              "      <td>Yes</td>\n",
              "    </tr>\n",
              "  </tbody>\n",
              "</table>\n",
              "</div>"
            ],
            "text/plain": [
              "   Country        Age        Salary Purchased\n",
              "0   France  44.000000  72000.000000        No\n",
              "1    Spain  27.000000  48000.000000       Yes\n",
              "2  Germany  30.000000  54000.000000        No\n",
              "3    Spain  38.000000  61000.000000        No\n",
              "4  Germany  40.000000  63777.777778       Yes\n",
              "5   France  35.000000  58000.000000       Yes\n",
              "6    Spain  38.777778  52000.000000        No\n",
              "7   France  48.000000  79000.000000       Yes\n",
              "8  Germany  50.000000  83000.000000        No\n",
              "9   France  37.000000  67000.000000       Yes"
            ]
          },
          "metadata": {
            "tags": []
          },
          "execution_count": 56
        }
      ]
    },
    {
      "cell_type": "code",
      "metadata": {
        "id": "m6l9BLb6gpBH",
        "colab_type": "code",
        "colab": {
          "base_uri": "https://localhost:8080/",
          "height": 35
        },
        "outputId": "76d3d848-87b7-409d-aafa-55b491c99d91"
      },
      "source": [
        "#Verify Numpy version\n",
        "print(np.__version__)"
      ],
      "execution_count": 57,
      "outputs": [
        {
          "output_type": "stream",
          "text": [
            "1.17.5\n"
          ],
          "name": "stdout"
        }
      ]
    },
    {
      "cell_type": "code",
      "metadata": {
        "id": "EauWuiVSsTbu",
        "colab_type": "code",
        "colab": {
          "base_uri": "https://localhost:8080/",
          "height": 35
        },
        "outputId": "f951d47c-ba3b-42a2-92ca-ed225fc63993"
      },
      "source": [
        "#Array is similar like Python List data structure\n",
        "vals = [1,2,3,4,5,6,7,8,9]\n",
        "n_vals = np.array(vals)\n",
        "n_vals"
      ],
      "execution_count": 58,
      "outputs": [
        {
          "output_type": "execute_result",
          "data": {
            "text/plain": [
              "array([1, 2, 3, 4, 5, 6, 7, 8, 9])"
            ]
          },
          "metadata": {
            "tags": []
          },
          "execution_count": 58
        }
      ]
    },
    {
      "cell_type": "code",
      "metadata": {
        "id": "4L2L1GoC_06N",
        "colab_type": "code",
        "colab": {
          "base_uri": "https://localhost:8080/",
          "height": 54
        },
        "outputId": "55e041d6-6bd6-47d2-97be-0dff45c002c6"
      },
      "source": [
        "#single dimensional array\n",
        "array_1 =np.array([1,2,3])\n",
        "#2dimensional Array\n",
        "array_2 =np.array([[1,2,3],[4,5,6]])\n",
        "print(array_2.dtype)\n",
        "#3 Dimensional array\n",
        "array_3 = np.array([[1,2,3],[4,5,6],[7,8,9]],np.int32)\n",
        "print(array_3.dtype)"
      ],
      "execution_count": 59,
      "outputs": [
        {
          "output_type": "stream",
          "text": [
            "int64\n",
            "int32\n"
          ],
          "name": "stdout"
        }
      ]
    },
    {
      "cell_type": "code",
      "metadata": {
        "id": "k9VJSxGKBi2Z",
        "colab_type": "code",
        "colab": {
          "base_uri": "https://localhost:8080/",
          "height": 90
        },
        "outputId": "b4afe195-4797-4966-81ea-c1cb3ec2bb06"
      },
      "source": [
        "print(array_1.itemsize)\n",
        "sample_float =np.array([[1,2,3],[4,5,6]],dtype=np.float)\n",
        "print(sample_float.itemsize)\n",
        "samples_int64 =np.array([[1,2,3],[4,5,6]],dtype=np.int64)\n",
        "print(samples_int64.itemsize)\n",
        "samples_complex =np.array([1,2,3],dtype=np.complex128)\n",
        "print(samples_complex.itemsize)"
      ],
      "execution_count": 60,
      "outputs": [
        {
          "output_type": "stream",
          "text": [
            "8\n",
            "8\n",
            "8\n",
            "16\n"
          ],
          "name": "stdout"
        }
      ]
    },
    {
      "cell_type": "code",
      "metadata": {
        "id": "fk2jq14xJrmb",
        "colab_type": "code",
        "colab": {
          "base_uri": "https://localhost:8080/",
          "height": 109
        },
        "outputId": "b0ed1e55-cbfc-40a4-cc74-4c23eed9ec66"
      },
      "source": [
        "#List to Array & Array to List\n",
        "List_salary = [20000,50000,75000,65000]\n",
        "array_salary = np.array(List_salary)\n",
        "print(array_salary)\n",
        "print(array_salary.itemsize)\n",
        "print(array_salary.size)\n",
        "print(array_salary.shape)\n",
        "#convert Array to List\n",
        "salary_list = array_salary.tolist()\n",
        "print(salary_list)"
      ],
      "execution_count": 61,
      "outputs": [
        {
          "output_type": "stream",
          "text": [
            "[20000 50000 75000 65000]\n",
            "8\n",
            "4\n",
            "(4,)\n",
            "[20000, 50000, 75000, 65000]\n"
          ],
          "name": "stdout"
        }
      ]
    },
    {
      "cell_type": "code",
      "metadata": {
        "id": "N-yNmBoqAmt4",
        "colab_type": "code",
        "colab": {
          "base_uri": "https://localhost:8080/",
          "height": 54
        },
        "outputId": "60b8d7bd-2730-4a15-d2aa-36900987a51e"
      },
      "source": [
        "#Transpose Array\n",
        "divisions = np.array([[10,20],[30,40]])\n",
        "divisions.T"
      ],
      "execution_count": 62,
      "outputs": [
        {
          "output_type": "execute_result",
          "data": {
            "text/plain": [
              "array([[10, 30],\n",
              "       [20, 40]])"
            ]
          },
          "metadata": {
            "tags": []
          },
          "execution_count": 62
        }
      ]
    },
    {
      "cell_type": "code",
      "metadata": {
        "id": "3qreLr7Q-tJn",
        "colab_type": "code",
        "colab": {
          "base_uri": "https://localhost:8080/",
          "height": 35
        },
        "outputId": "a14530dc-11c9-4042-823f-623bd878a73f"
      },
      "source": [
        "n_vals.dtype"
      ],
      "execution_count": 63,
      "outputs": [
        {
          "output_type": "execute_result",
          "data": {
            "text/plain": [
              "dtype('int64')"
            ]
          },
          "metadata": {
            "tags": []
          },
          "execution_count": 63
        }
      ]
    },
    {
      "cell_type": "code",
      "metadata": {
        "id": "P-ZSOUmN-vZc",
        "colab_type": "code",
        "colab": {
          "base_uri": "https://localhost:8080/",
          "height": 35
        },
        "outputId": "445c3b92-70be-4c2c-f883-0501819edb16"
      },
      "source": [
        "salary = np.array([25300.50,75250.75])\n",
        "print(salary.dtype)"
      ],
      "execution_count": 64,
      "outputs": [
        {
          "output_type": "stream",
          "text": [
            "float64\n"
          ],
          "name": "stdout"
        }
      ]
    },
    {
      "cell_type": "code",
      "metadata": {
        "id": "Y4fbTrOhspLw",
        "colab_type": "code",
        "colab": {
          "base_uri": "https://localhost:8080/",
          "height": 35
        },
        "outputId": "58be9a25-77b1-4180-f119-a9d14861ed14"
      },
      "source": [
        "#Addition of values\n",
        "newvals = n_vals +10\n",
        "newvals"
      ],
      "execution_count": 65,
      "outputs": [
        {
          "output_type": "execute_result",
          "data": {
            "text/plain": [
              "array([11, 12, 13, 14, 15, 16, 17, 18, 19])"
            ]
          },
          "metadata": {
            "tags": []
          },
          "execution_count": 65
        }
      ]
    },
    {
      "cell_type": "code",
      "metadata": {
        "id": "INuaUVpRoz4A",
        "colab_type": "code",
        "colab": {
          "base_uri": "https://localhost:8080/",
          "height": 127
        },
        "outputId": "a015f562-943f-4cf4-b32a-c2549b2b8d20"
      },
      "source": [
        "odd = np.array([1,3,5,7])\n",
        "even = np.array([2,4,6,8])\n",
        "print(odd)\n",
        "print(odd.shape)\n",
        "print(odd.ndim)\n",
        "print(even)\n",
        "print(even.shape)\n",
        "print(even.ndim)"
      ],
      "execution_count": 66,
      "outputs": [
        {
          "output_type": "stream",
          "text": [
            "[1 3 5 7]\n",
            "(4,)\n",
            "1\n",
            "[2 4 6 8]\n",
            "(4,)\n",
            "1\n"
          ],
          "name": "stdout"
        }
      ]
    },
    {
      "cell_type": "code",
      "metadata": {
        "id": "L-_mJA6okT6Z",
        "colab_type": "code",
        "colab": {
          "base_uri": "https://localhost:8080/",
          "height": 182
        },
        "outputId": "b98a61d7-4ec8-4cd4-bcd9-20e3e27aa258"
      },
      "source": [
        "dummy = np.array([[1,2],[3,4],[5,6]])\n",
        "print(dummy.size)\n",
        "print(dummy.shape)\n",
        "hdummy = np.hstack(dummy)\n",
        "print(dummy)\n",
        "print(hdummy)\n",
        "vdummy =np.vstack(dummy)\n",
        "print(vdummy)"
      ],
      "execution_count": 67,
      "outputs": [
        {
          "output_type": "stream",
          "text": [
            "6\n",
            "(3, 2)\n",
            "[[1 2]\n",
            " [3 4]\n",
            " [5 6]]\n",
            "[1 2 3 4 5 6]\n",
            "[[1 2]\n",
            " [3 4]\n",
            " [5 6]]\n"
          ],
          "name": "stdout"
        }
      ]
    },
    {
      "cell_type": "code",
      "metadata": {
        "id": "SYJW-FNHpqvn",
        "colab_type": "code",
        "colab": {
          "base_uri": "https://localhost:8080/",
          "height": 35
        },
        "outputId": "bfec7fba-9cbe-4884-d1e6-3e45742cd64a"
      },
      "source": [
        "#Using hstack  : With hstack you can appened data horizontally. This is a very convinient function in Numpy\n",
        "hordata = np.hstack((odd,even))\n",
        "print(hordata)"
      ],
      "execution_count": 68,
      "outputs": [
        {
          "output_type": "stream",
          "text": [
            "[1 3 5 7 2 4 6 8]\n"
          ],
          "name": "stdout"
        }
      ]
    },
    {
      "cell_type": "code",
      "metadata": {
        "id": "600Bngsup7Y2",
        "colab_type": "code",
        "colab": {}
      },
      "source": [
        "#With vstack you can appened data vertically\n",
        "print(odd)\n",
        "print(even)\n",
        "print(odd.shape)\n",
        "print(even.shape)\n",
        "vertdata =np.vstack((odd,even))\n",
        "print(hordata.shape)\n",
        "vertdata\n",
        "print(vertdata.shape)"
      ],
      "execution_count": 0,
      "outputs": []
    },
    {
      "cell_type": "code",
      "metadata": {
        "id": "hqQqAjO6qVhy",
        "colab_type": "code",
        "colab": {
          "base_uri": "https://localhost:8080/",
          "height": 54
        },
        "outputId": "23d8d7d9-970f-4f46-e05d-90ec6c2a9d68"
      },
      "source": [
        "#Generate random Numbers\n",
        "rd = np.random.normal(5,0.5,10)\n",
        "print(rd)"
      ],
      "execution_count": 70,
      "outputs": [
        {
          "output_type": "stream",
          "text": [
            "[4.7561855  5.47240923 4.37447536 5.69706647 6.25401615 4.23672503\n",
            " 5.11070882 4.0141008  6.26343242 5.06827298]\n"
          ],
          "name": "stdout"
        }
      ]
    },
    {
      "cell_type": "code",
      "metadata": {
        "id": "bPgv7K-7dCl2",
        "colab_type": "code",
        "colab": {
          "base_uri": "https://localhost:8080/",
          "height": 72
        },
        "outputId": "7f435f79-e777-44b2-adbf-2337ea6d13a9"
      },
      "source": [
        "y_range = np.arange(12)\n",
        "print(y_range)\n",
        "print(y_range.ndim)\n",
        "print(y_range.shape)"
      ],
      "execution_count": 71,
      "outputs": [
        {
          "output_type": "stream",
          "text": [
            "[ 0  1  2  3  4  5  6  7  8  9 10 11]\n",
            "1\n",
            "(12,)\n"
          ],
          "name": "stdout"
        }
      ]
    },
    {
      "cell_type": "code",
      "metadata": {
        "id": "wFxAKYNBdXIa",
        "colab_type": "code",
        "colab": {
          "base_uri": "https://localhost:8080/",
          "height": 219
        },
        "outputId": "66486011-75ab-4ade-da5c-e62081fae0c3"
      },
      "source": [
        "y_vert = y_range.reshape(2,3,2)\n",
        "print(y_vert)\n",
        "print(y_vert.shape)\n",
        "print(y_vert.ndim)\n",
        "print(y_vert.size)\n",
        "print(len(y_vert))"
      ],
      "execution_count": 72,
      "outputs": [
        {
          "output_type": "stream",
          "text": [
            "[[[ 0  1]\n",
            "  [ 2  3]\n",
            "  [ 4  5]]\n",
            "\n",
            " [[ 6  7]\n",
            "  [ 8  9]\n",
            "  [10 11]]]\n",
            "(2, 3, 2)\n",
            "3\n",
            "12\n",
            "2\n"
          ],
          "name": "stdout"
        }
      ]
    },
    {
      "cell_type": "code",
      "metadata": {
        "id": "IVfmrAqbcNyx",
        "colab_type": "code",
        "colab": {
          "base_uri": "https://localhost:8080/",
          "height": 35
        },
        "outputId": "dc9fc784-9e71-4a11-a680-355617837c7c"
      },
      "source": [
        "import numpy as np\n",
        "y = np.array(((1,2,3),(4,5,6),(7,8,9)))\n",
        "y.ndim"
      ],
      "execution_count": 73,
      "outputs": [
        {
          "output_type": "execute_result",
          "data": {
            "text/plain": [
              "2"
            ]
          },
          "metadata": {
            "tags": []
          },
          "execution_count": 73
        }
      ]
    },
    {
      "cell_type": "code",
      "metadata": {
        "id": "astdUgNecz6f",
        "colab_type": "code",
        "colab": {
          "base_uri": "https://localhost:8080/",
          "height": 35
        },
        "outputId": "ec60c318-7fc2-477d-ef35-f4215b4912f1"
      },
      "source": [
        "y.shape"
      ],
      "execution_count": 74,
      "outputs": [
        {
          "output_type": "execute_result",
          "data": {
            "text/plain": [
              "(3, 3)"
            ]
          },
          "metadata": {
            "tags": []
          },
          "execution_count": 74
        }
      ]
    },
    {
      "cell_type": "code",
      "metadata": {
        "id": "oH8YUSQhhCA1",
        "colab_type": "code",
        "colab": {
          "base_uri": "https://localhost:8080/",
          "height": 72
        },
        "outputId": "fdd1cc2c-95fc-41aa-ec0a-f12d943aa19d"
      },
      "source": [
        "x = np.arange(20)\n",
        "print(x)\n",
        "show_10 =np.where(x<10)\n",
        "show_20 =np.where(x>10)\n",
        "print(show_10)\n",
        "print(show_20)"
      ],
      "execution_count": 75,
      "outputs": [
        {
          "output_type": "stream",
          "text": [
            "[ 0  1  2  3  4  5  6  7  8  9 10 11 12 13 14 15 16 17 18 19]\n",
            "(array([0, 1, 2, 3, 4, 5, 6, 7, 8, 9]),)\n",
            "(array([11, 12, 13, 14, 15, 16, 17, 18, 19]),)\n"
          ],
          "name": "stdout"
        }
      ]
    },
    {
      "cell_type": "code",
      "metadata": {
        "id": "AVwJuyEThw3o",
        "colab_type": "code",
        "colab": {
          "base_uri": "https://localhost:8080/",
          "height": 54
        },
        "outputId": "22b98776-6d78-4ce3-be31-fea667eb108c"
      },
      "source": [
        "#Single Conditions\n",
        "nums =np.arange(30)\n",
        "show_even = np.where(nums%2==0)\n",
        "show_odd = np.where(nums%2==1)\n",
        "print(show_even)\n",
        "print(show_odd)"
      ],
      "execution_count": 76,
      "outputs": [
        {
          "output_type": "stream",
          "text": [
            "(array([ 0,  2,  4,  6,  8, 10, 12, 14, 16, 18, 20, 22, 24, 26, 28]),)\n",
            "(array([ 1,  3,  5,  7,  9, 11, 13, 15, 17, 19, 21, 23, 25, 27, 29]),)\n"
          ],
          "name": "stdout"
        }
      ]
    },
    {
      "cell_type": "code",
      "metadata": {
        "id": "jwo2_C0bi2Kt",
        "colab_type": "code",
        "colab": {
          "base_uri": "https://localhost:8080/",
          "height": 35
        },
        "outputId": "6018db0b-b09f-47b5-c8a6-4fb03a24cd98"
      },
      "source": [
        "#Using Multiple Conditions\n",
        "showall = np.where((nums > 10) & (nums<20))\n",
        "showall"
      ],
      "execution_count": 77,
      "outputs": [
        {
          "output_type": "execute_result",
          "data": {
            "text/plain": [
              "(array([11, 12, 13, 14, 15, 16, 17, 18, 19]),)"
            ]
          },
          "metadata": {
            "tags": []
          },
          "execution_count": 77
        }
      ]
    },
    {
      "cell_type": "code",
      "metadata": {
        "id": "sogl5T3JkCFr",
        "colab_type": "code",
        "colab": {
          "base_uri": "https://localhost:8080/",
          "height": 109
        },
        "outputId": "656d218f-1a18-4a4f-ae5f-c104d18a121f"
      },
      "source": [
        "show_even = np.where((nums%2==0),'even','odd')\n",
        "print(nums)\n",
        "print(show_even)"
      ],
      "execution_count": 78,
      "outputs": [
        {
          "output_type": "stream",
          "text": [
            "[ 0  1  2  3  4  5  6  7  8  9 10 11 12 13 14 15 16 17 18 19 20 21 22 23\n",
            " 24 25 26 27 28 29]\n",
            "['even' 'odd' 'even' 'odd' 'even' 'odd' 'even' 'odd' 'even' 'odd' 'even'\n",
            " 'odd' 'even' 'odd' 'even' 'odd' 'even' 'odd' 'even' 'odd' 'even' 'odd'\n",
            " 'even' 'odd' 'even' 'odd' 'even' 'odd' 'even' 'odd']\n"
          ],
          "name": "stdout"
        }
      ]
    },
    {
      "cell_type": "code",
      "metadata": {
        "id": "lFmTGxzDkwts",
        "colab_type": "code",
        "colab": {
          "base_uri": "https://localhost:8080/",
          "height": 182
        },
        "outputId": "a6a8482c-bb88-403b-ce4d-f4f1fab5a385"
      },
      "source": [
        "xdata = np.arange(9).reshape((3,3))\n",
        "print(xdata)\n",
        "print(xdata.size)\n",
        "print(xdata.shape)\n",
        "print(xdata.ndim)\n",
        "show_dummy = np.where(xdata<4,-1,xdata)\n",
        "print(show_dummy)"
      ],
      "execution_count": 79,
      "outputs": [
        {
          "output_type": "stream",
          "text": [
            "[[0 1 2]\n",
            " [3 4 5]\n",
            " [6 7 8]]\n",
            "9\n",
            "(3, 3)\n",
            "2\n",
            "[[-1 -1 -1]\n",
            " [-1  4  5]\n",
            " [ 6  7  8]]\n"
          ],
          "name": "stdout"
        }
      ]
    },
    {
      "cell_type": "markdown",
      "metadata": {
        "id": "c9j3iCS9mtlS",
        "colab_type": "text"
      },
      "source": [
        "ravel :returns a view of the original array whenever possible."
      ]
    },
    {
      "cell_type": "code",
      "metadata": {
        "id": "2ziMjIqamZyt",
        "colab_type": "code",
        "colab": {
          "base_uri": "https://localhost:8080/",
          "height": 35
        },
        "outputId": "ed20bbec-accb-458e-e013-49c3d4dfd23f"
      },
      "source": [
        "xdata\n",
        "xdata_rav = np.ravel(xdata)\n",
        "print(xdata_rav)\n"
      ],
      "execution_count": 80,
      "outputs": [
        {
          "output_type": "stream",
          "text": [
            "[0 1 2 3 4 5 6 7 8]\n"
          ],
          "name": "stdout"
        }
      ]
    },
    {
      "cell_type": "markdown",
      "metadata": {
        "id": "J_-h2JRbn44X",
        "colab_type": "text"
      },
      "source": [
        "Flatten : returns the copy"
      ]
    },
    {
      "cell_type": "code",
      "metadata": {
        "id": "52mRytR-mjuZ",
        "colab_type": "code",
        "colab": {
          "base_uri": "https://localhost:8080/",
          "height": 90
        },
        "outputId": "e39faedd-6dd4-452a-d04a-09e1c7b1d720"
      },
      "source": [
        "xdata_flat = xdata.flatten()\n",
        "print(xdata_flat)\n",
        "print(xdata_flat.shape)\n",
        "print(xdata_flat.ndim)\n",
        "print(xdata_flat.size)"
      ],
      "execution_count": 81,
      "outputs": [
        {
          "output_type": "stream",
          "text": [
            "[0 1 2 3 4 5 6 7 8]\n",
            "(9,)\n",
            "1\n",
            "9\n"
          ],
          "name": "stdout"
        }
      ]
    },
    {
      "cell_type": "code",
      "metadata": {
        "id": "zLlT2ehVncAv",
        "colab_type": "code",
        "colab": {
          "base_uri": "https://localhost:8080/",
          "height": 219
        },
        "outputId": "25a8dda9-a1d7-4e64-f9c1-e522556f3907"
      },
      "source": [
        "xdata_order =xdata_flat.reshape(-1,1)\n",
        "print(xdata_order)\n",
        "print(xdata_order.shape)\n",
        "print(xdata_order.size)\n"
      ],
      "execution_count": 82,
      "outputs": [
        {
          "output_type": "stream",
          "text": [
            "[[0]\n",
            " [1]\n",
            " [2]\n",
            " [3]\n",
            " [4]\n",
            " [5]\n",
            " [6]\n",
            " [7]\n",
            " [8]]\n",
            "(9, 1)\n",
            "9\n"
          ],
          "name": "stdout"
        }
      ]
    },
    {
      "cell_type": "code",
      "metadata": {
        "id": "BgKhxYbwnxuT",
        "colab_type": "code",
        "colab": {}
      },
      "source": [
        ""
      ],
      "execution_count": 0,
      "outputs": []
    }
  ]
}
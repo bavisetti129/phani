{
  "nbformat": 4,
  "nbformat_minor": 0,
  "metadata": {
    "colab": {
      "name": "github file save.ipynb",
      "provenance": [],
      "authorship_tag": "ABX9TyO67FIIOKoRddcKf2O4eFzs",
      "include_colab_link": true
    },
    "kernelspec": {
      "name": "python3",
      "display_name": "Python 3"
    }
  },
  "cells": [
    {
      "cell_type": "markdown",
      "metadata": {
        "id": "view-in-github",
        "colab_type": "text"
      },
      "source": [
        "<a href=\"https://colab.research.google.com/github/bavisetti129/phani/blob/master/github_file_save.ipynb\" target=\"_parent\"><img src=\"https://colab.research.google.com/assets/colab-badge.svg\" alt=\"Open In Colab\"/></a>"
      ]
    },
    {
      "cell_type": "code",
      "metadata": {
        "id": "-xQsaxf-9LrF",
        "colab_type": "code",
        "colab": {
          "base_uri": "https://localhost:8080/",
          "height": 68
        },
        "outputId": "8d12b34c-4c67-46ca-a6bd-7138df5bd7fa"
      },
      "source": [
        "news=\"This is a Story\"\n",
        "len(news)\n",
        "news_v=news.split(\" \")\n",
        "print(news_v)\n",
        "rev_news=news_v[-1::-1]\n",
        "print(rev_news)\n",
        "reverse_news=' '.join(rev_news)\n",
        "print(reverse_news)"
      ],
      "execution_count": 2,
      "outputs": [
        {
          "output_type": "stream",
          "text": [
            "['This', 'is', 'a', 'Story']\n",
            "['Story', 'a', 'is', 'This']\n",
            "Story a is This\n"
          ],
          "name": "stdout"
        }
      ]
    }
  ]
}